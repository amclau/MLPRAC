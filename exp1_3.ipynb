{
 "cells": [
  {
   "cell_type": "code",
   "execution_count": 9,
   "metadata": {},
   "outputs": [],
   "source": [
    "\n",
    "import pandas as pd\n",
    "\n",
    "df = pd.read_csv('dataset_marks.csv')\n",
    "def linear_regression(x_values, y_values):\n",
    "    n = len(x_values)\n",
    "    mean_x = sum(x_values) / n\n",
    "    mean_y = sum(y_values) / n\n",
    "\n",
    "    numerator = sum((x - mean_x) * (y - mean_y) for x, y in zip(x_values, y_values))\n",
    "    denominator = sum((x - mean_x) ** 2 for x in x_values)\n",
    "    \n",
    "    m = numerator / denominator\n",
    "    b = mean_y - m * mean_x\n",
    "    \n",
    "    y_pred = [m * x + b for x in x_values]\n",
    "    mse = sum((y - y_pred) ** 2 for y, y_pred in zip(y_values, y_pred)) / n\n",
    "    \n",
    "    ss_total = sum((y - mean_y) ** 2 for y in y_values)\n",
    "    ss_residual = sum((y - y_pred) ** 2 for y, y_pred in zip(y_values, y_pred))\n",
    "    r_squared = 1 - (ss_residual / ss_total)\n",
    "    return m, b, mse, r_squared, y_pred\n",
    "\n",
    "\n",
    "Y_values=df[\"Hours_Studied\"]\n",
    "X_values=df[\"Marks_Obtained\"]\n",
    "\n",
    "slope, intercept, mse, r_squared, y_pred = linear_regression(X_values, Y_values)\n",
    "\n",
    "# "
   ]
  },
  {
   "cell_type": "code",
   "execution_count": 11,
   "metadata": {},
   "outputs": [
    {
     "name": "stdout",
     "output_type": "stream",
     "text": [
      "Predicted value for x = 0.04: 0.021025641025641133\n"
     ]
    }
   ],
   "source": [
    "x_to_predict = 0.04\n",
    "predicted_y = slope * x_to_predict + intercept\n",
    "\n",
    "print(f\"Predicted value for x = {x_to_predict}: {predicted_y}\")\n"
   ]
  },
  {
   "cell_type": "code",
   "execution_count": 14,
   "metadata": {},
   "outputs": [
    {
     "name": "stdout",
     "output_type": "stream",
     "text": [
      "Predicted value for x = 5: [2.62820513]\n"
     ]
    }
   ],
   "source": [
    "from sklearn.linear_model import LinearRegression\n",
    "from sklearn.metrics import mean_squared_error, r2_score\n",
    "import numpy as np\n",
    "import matplotlib.pyplot as plt\n",
    "import pandas as pd\n",
    "\n",
    "df = pd.read_csv('dataset_marks.csv')\n",
    "\n",
    "Y_values = df[\"Hours_Studied\"]\n",
    "X_values = df[\"Marks_Obtained\"]\n",
    "\n",
    "\n",
    "def linear_regression(x_values, y_values):\n",
    "    x_values = np.array(x_values).reshape(-1, 1)\n",
    "    y_values = np.array(y_values)\n",
    "\n",
    "    model = LinearRegression()\n",
    "    model.fit(x_values, y_values)\n",
    "\n",
    "    y_pred = model.predict(x_values)\n",
    "\n",
    "    mse = mean_squared_error(y_values, y_pred)\n",
    "    r_squared = r2_score(y_values, y_pred)\n",
    "\n",
    "    return model.coef_[0], model.intercept_, mse, r_squared, y_pred, model\n",
    "\n",
    "\n",
    "slope, intercept, mse, r_squared, y_pred, model = linear_regression(X_values, Y_values)\n",
    "\n",
    "\n",
    "\n",
    "x_to_predict = np.array([[5]]) \n",
    "predicted_y = model.predict(x_to_predict)\n",
    "\n",
    "print(f\"Predicted value for x = 5: {predicted_y}\")\n"
   ]
  },
  {
   "cell_type": "code",
   "execution_count": null,
   "metadata": {},
   "outputs": [],
   "source": []
  },
  {
   "cell_type": "code",
   "execution_count": null,
   "metadata": {},
   "outputs": [],
   "source": []
  }
 ],
 "metadata": {
  "kernelspec": {
   "display_name": "Python 3",
   "language": "python",
   "name": "python3"
  },
  "language_info": {
   "codemirror_mode": {
    "name": "ipython",
    "version": 3
   },
   "file_extension": ".py",
   "mimetype": "text/x-python",
   "name": "python",
   "nbconvert_exporter": "python",
   "pygments_lexer": "ipython3",
   "version": "3.10.13"
  }
 },
 "nbformat": 4,
 "nbformat_minor": 2
}
